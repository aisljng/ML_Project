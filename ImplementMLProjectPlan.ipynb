{
 "cells": [
  {
   "cell_type": "markdown",
   "metadata": {},
   "source": [
    "# Lab 8: Implement Your Machine Learning Project Plan"
   ]
  },
  {
   "cell_type": "markdown",
   "metadata": {},
   "source": [
    "In this lab assignment, you will implement the machine learning project plan you created in the written assignment. You will:\n",
    "\n",
    "1. Load your data set and save it to a Pandas DataFrame.\n",
    "2. Perform exploratory data analysis on your data to determine which feature engineering and data preparation techniques you will use.\n",
    "3. Prepare your data for your model and create features and a label.\n",
    "4. Fit your model to the training data and evaluate your model.\n",
    "5. Improve your model by performing model selection and/or feature selection techniques to find best model for your problem."
   ]
  },
  {
   "cell_type": "markdown",
   "metadata": {},
   "source": [
    "### Import Packages\n",
    "\n",
    "Before you get started, import a few packages."
   ]
  },
  {
   "cell_type": "code",
   "execution_count": 1,
   "metadata": {},
   "outputs": [],
   "source": [
    "import pandas as pd\n",
    "import numpy as np\n",
    "import os \n",
    "import matplotlib.pyplot as plt\n",
    "import seaborn as sns"
   ]
  },
  {
   "cell_type": "markdown",
   "metadata": {},
   "source": [
    "<b>Task:</b> In the code cell below, import additional packages that you have used in this course that you will need for this task."
   ]
  },
  {
   "cell_type": "code",
   "execution_count": 2,
   "metadata": {},
   "outputs": [],
   "source": [
    "# YOUR CODE HERE\n",
    "from sklearn.linear_model import LogisticRegression\n",
    "from sklearn.metrics import roc_auc_score\n",
    "from sklearn.feature_extraction.text import TfidfVectorizer\n",
    "from sklearn.model_selection import train_test_split\n",
    "import tensorflow.keras as keras\n",
    "import time\n",
    "import gensim\n"
   ]
  },
  {
   "cell_type": "markdown",
   "metadata": {},
   "source": [
    "## Part 1: Load the Data Set\n",
    "\n",
    "\n",
    "You have chosen to work with one of four data sets. The data sets are located in a folder named \"data.\" The file names of the three data sets are as follows:\n",
    "\n",
    "* The \"adult\" data set that contains Census information from 1994 is located in file `adultData.csv`\n",
    "* The airbnb NYC \"listings\" data set is located in file  `airbnbListingsData.csv`\n",
    "* The World Happiness Report (WHR) data set is located in file `WHR2018Chapter2OnlineData.csv`\n",
    "* The book review data set is located in file `bookReviewsData.csv`\n",
    "\n",
    "\n",
    "\n",
    "<b>Task:</b> In the code cell below, use the same method you have been using to load your data using `pd.read_csv()` and save it to DataFrame `df`."
   ]
  },
  {
   "cell_type": "code",
   "execution_count": 3,
   "metadata": {},
   "outputs": [],
   "source": [
    "# YOUR CODE HERE\n",
    "filename = os.path.join(os.getcwd(), \"data\", \"bookReviewsData.csv\")\n",
    "df = pd.read_csv(filename, header=0)"
   ]
  },
  {
   "cell_type": "markdown",
   "metadata": {},
   "source": [
    "## Part 2: Exploratory Data Analysis\n",
    "\n",
    "The next step is to inspect and analyze your data set with your machine learning problem and project plan in mind. \n",
    "\n",
    "This step will help you determine data preparation and feature engineering techniques you will need to apply to your data to build a balanced modeling data set for your problem and model. These data preparation techniques may include:\n",
    "* addressing missingness, such as replacing missing values with means\n",
    "* renaming features and labels\n",
    "* finding and replacing outliers\n",
    "* performing winsorization if needed\n",
    "* performing one-hot encoding on categorical features\n",
    "* performing vectorization for an NLP problem\n",
    "* addressing class imbalance in your data sample to promote fair AI\n",
    "\n",
    "\n",
    "Think of the different techniques you have used to inspect and analyze your data in this course. These include using Pandas to apply data filters, using the Pandas `describe()` method to get insight into key statistics for each column, using the Pandas `dtypes` property to inspect the data type of each column, and using Matplotlib and Seaborn to detect outliers and visualize relationships between features and labels. If you are working on a classification problem, use techniques you have learned to determine if there is class imbalance.\n",
    "\n",
    "\n",
    "<b>Task</b>: Use the techniques you have learned in this course to inspect and analyze your data. \n",
    "\n",
    "<b>Note</b>: You can add code cells if needed by going to the <b>Insert</b> menu and clicking on <b>Insert Cell Below</b> in the drop-drown menu."
   ]
  },
  {
   "cell_type": "code",
   "execution_count": 4,
   "metadata": {},
   "outputs": [
    {
     "data": {
      "text/plain": [
       "Review             object\n",
       "Positive Review      bool\n",
       "dtype: object"
      ]
     },
     "execution_count": 4,
     "metadata": {},
     "output_type": "execute_result"
    }
   ],
   "source": [
    "df.dtypes"
   ]
  },
  {
   "cell_type": "code",
   "execution_count": 5,
   "metadata": {},
   "outputs": [
    {
     "name": "stdout",
     "output_type": "stream",
     "text": [
      "Review             0\n",
      "Positive Review    0\n",
      "dtype: int64\n"
     ]
    },
    {
     "data": {
      "text/html": [
       "<div>\n",
       "<style scoped>\n",
       "    .dataframe tbody tr th:only-of-type {\n",
       "        vertical-align: middle;\n",
       "    }\n",
       "\n",
       "    .dataframe tbody tr th {\n",
       "        vertical-align: top;\n",
       "    }\n",
       "\n",
       "    .dataframe thead th {\n",
       "        text-align: right;\n",
       "    }\n",
       "</style>\n",
       "<table border=\"1\" class=\"dataframe\">\n",
       "  <thead>\n",
       "    <tr style=\"text-align: right;\">\n",
       "      <th></th>\n",
       "      <th>Review</th>\n",
       "      <th>Positive Review</th>\n",
       "    </tr>\n",
       "  </thead>\n",
       "  <tbody>\n",
       "    <tr>\n",
       "      <th>count</th>\n",
       "      <td>1973</td>\n",
       "      <td>1973</td>\n",
       "    </tr>\n",
       "    <tr>\n",
       "      <th>unique</th>\n",
       "      <td>1865</td>\n",
       "      <td>2</td>\n",
       "    </tr>\n",
       "    <tr>\n",
       "      <th>top</th>\n",
       "      <td>I have read several of Hiaasen's books and lov...</td>\n",
       "      <td>False</td>\n",
       "    </tr>\n",
       "    <tr>\n",
       "      <th>freq</th>\n",
       "      <td>3</td>\n",
       "      <td>993</td>\n",
       "    </tr>\n",
       "  </tbody>\n",
       "</table>\n",
       "</div>"
      ],
      "text/plain": [
       "                                                   Review Positive Review\n",
       "count                                                1973            1973\n",
       "unique                                               1865               2\n",
       "top     I have read several of Hiaasen's books and lov...           False\n",
       "freq                                                    3             993"
      ]
     },
     "execution_count": 5,
     "metadata": {},
     "output_type": "execute_result"
    }
   ],
   "source": [
    "# returns the number of missing values\n",
    "nan_count = np.sum(df.isnull())\n",
    "print(nan_count)\n",
    "\n",
    "df.describe()"
   ]
  },
  {
   "cell_type": "code",
   "execution_count": 6,
   "metadata": {},
   "outputs": [
    {
     "name": "stdout",
     "output_type": "stream",
     "text": [
      "['Review']\n"
     ]
    },
    {
     "data": {
      "text/plain": [
       "Review    1865\n",
       "dtype: int64"
      ]
     },
     "execution_count": 6,
     "metadata": {},
     "output_type": "execute_result"
    }
   ],
   "source": [
    "to_encode = list(df.select_dtypes(include=['object']).columns)\n",
    "print(to_encode)\n",
    "df[to_encode].nunique()"
   ]
  },
  {
   "cell_type": "code",
   "execution_count": 7,
   "metadata": {},
   "outputs": [
    {
     "data": {
      "text/plain": [
       "[\"I have read several of Hiaasen's books and loved them.  They were very funny.  This one is not.  It is an endless description of naked strippers.  I found the main character, Erin, to be very unappealing.  She is just so stupid.  Her problems are all of her own creation.  And she is not funny.  I think you have to be a man to like this book.  I, as a woman, just found it exceedingly boring.  I kept waiting for it to get funny.  It never did\\n\",\n",
       " 'How can a best-selling author like Simon Winchester take an event as exciting as the San Francisco Earthquake of 1906 and turn it into a tedious snooze-fest? One answer: write as if you had just discovered an adjective mine and were free to throw in extra descripitive terms on every line until listeners scream for an end to florid phrases. Another: strive to break the record for most clich?s in a single paragraph. Finally: write about events in 1906 as if no one but Simon Winchester had ever before thought about their consequences -- thus, everything in this tedious narrative becomes about Simon. Simon and the raccoons; Simon on the failing American economy; Simon attempting to reproduce American accents. This is a CD set for avoiding\\n',\n",
       " 'I admit, I haven\\'t finished this book.  A friend recommended it to me as I have been having problems with insomnia.  I was interested in reading a book about women\\'s health issues and this one sounded intriguing UNTIL she started in with her tarot cards, interest in astrology and angels.  Granted, I am not a firm believer in just \"the hard facts\" but its really hard to believe anything this woman writes after it is clear that common sense isn\\'t alternative enough for her!\\n',\n",
       " \"This is a nice small book to take along in the car but I don't think the pictures are animated enough. My 19 month old son doesn't seem too interested in the book\\n\",\n",
       " \"This book was as much the author's opinion and imagination as anything else. He makes claims that are not substiantiated by facts, biblical or otherwise. I will not purchase further books by this author\\n\",\n",
       " \"While I only am a little over half way through this book, I'm finding myself hating Will.  He's pathetic and boring and not at all a character that I can cheer for.  This book has been a tedious read overall.  I keep pushing through because I feel like it has to get better, yet so far it has not.  I'm happy that I checked this out from the library, so that I can return it and not have it collect dust on MY shelves.  The only reason why I'm even writing a review is that I'm so shocked about all the positive comments this book has received thus far.  I looked on Amazon to see if my thoughts were shared by others; I'm surprised that they are not.  I usually like this genre of fiction, but in terms of this book all it is is a bunch of whining and self-loathing\\n\",\n",
       " 'Thankfully, this is NOT littered with platitudes and meaningless anaologies, the hallmarks of 99% of the latest-and-greatest business books. Especially since it was written in 1999, Moore\\'s is an incredibly insightful and prophetic book on strategy for the high-tech industry. He was predicting cutting edge changes then that are coming into reality today in 2005. The book is much more descriptive than prescriptive though, and is best used as a tool to instigate discussions about corporate strategy, rather than as a checklist for strategic implementation. \\n\\nI help run an online software development company and although it isn\\'t exactly \"high tech\" I still found the vast majority of it very helpful and the rest of it fascinating. Market shifts are demanding broadband wireless Internet everywhere--free. Companies are shifting towards web-basing software applications. All very relevant to my business.\\n\\nThe book is well written, an easy and moderately fast read, and very accessible by anyone who is technology-savvy enough to at least hold an email address. Yes, buy it. Buy the paperback and save money.\\n\\nShort Synopsis:  In the infancy of a market, products need to be highly tailored to meet the psychological and technical needs of leading edge techno-geeks; nothing new here. When a company wants to take that product and make it marketable to the middle majority--where the biggest money sits--it requires a commitment to discipline and shift its strategy in order to do so. The emphasis shifts intially to identifying a single niche segment and creating a comprehensive, tailored product, that meets all of their needs--create the \"whole product\" by using partners and 3rd party services to patchwork the thing together. Then, stop tweaking the product. If that works, pick related niches and go after them the same way, creating the \"whole product\" for each of them. Once people at large are comfortable enough to make the paradigm shift for that market (this all deals with new, high-tech changes) and start doing so en masse, the strategy must completely shift again to a ship-first / fix-the-product-later mentality in a mad, market share scramble. At this phase, you are \"In the Tornado.\" Lots of examples of successful and abysmal strategies used by high tech companies whose names are familiar to everyone, at each stage mentioned above.\\n\\n',\n",
       " \"I was really looking forward to both the book and the movie. Unfortunately I think both are very much overrated. Character development is non-existent. We're supposed to believe that the haunted, passive, timid character Dave was an all-star shortstop in high school? The book had a great premise and good beginning, but went nowhere interesting. The handling of Dave's character relies on cliche and we never really get insight into the book's most intriguing character.\\n\",\n",
       " 'Oh dear. This is another book like the horrible \"Who Moved My Cheese?\" that attempts to manipulate grown adults by treating them like children.\\n\\nLike the aforementioned \"Who thinks my cheese stinks?\" (or whatever it is called), I saw some people in the organisation where I work trying to sneakily weave it into the corporate culture and it lasted about five days.\\n\\nIt\\'s all about making work \"FUN\". Yep, work can be \"FUN\". Tell that to the folks who work in hospital waste disposal. Or maybe those who deal with animal cruelty cases.\\n\\nOf course, it\\'s just great \"FUN\" to deal with children who have just had their parents killed, or folks who just lost their kids.\\n\\nBecause that\\'s what work is - \"FUN\" - or so this book would have you believe you can convince your workers.\\n\\nOf course in the examples I have listed above, it doesn\\'t really work too well, because this is really about getting people in perceived lower-end occupations like factories or call-centres to believe their mind-numbing daily tasks can be \"FUN\".\\n\\nMyself, I do have some \"FUN\" at work, but probably like many people with more than one brain cell, it is based on having a laugh with my co-workers about the sheer absurdity of where our work life often takes us.\\n\\nYou can call this cynicism, which is probably how it would be viewed by people who buy into this dumb \"Fish\"-style \"WORK MUST BE FUN\" philosophy. I\\'d call it black humour, but it keeps people sane and makes difficult work more bearable.\\n\\nAs to the title of my review - this method of making the workplace \"FUN\" in a forced way is very useful if you have employees that you wish to isolate and marginalise.\\n\\nFirst immerse people in the cult-like atmosphere and tell them that they are now to regard work as \"FUN\".\\n\\nSecond, let them know that they now \"CHOOSE\" their attitude - if they are unhappy in any way (regardless of them doing their work well or not), they are \"LETTING THE TEAM DOWN\" and not complying with the obligation to \"MAKE WORK FUN\".\\n\\nThird, while the majority of victims or workers, however you choose to view your prey, swallow the \"WORK IS FUN\" message and display the behaviour of sea lions clapping to get a mouthful of FISH, you can point to those who have shown a small streak of individual identity and are not HAVING FUN AT WORK and use the Enron-style message that they \"just don\\'t get it\".\\n\\nIn this way, the resistant individual can be said to be \"incompatible with our mission and values\", \"bad for morale\" or just \"out of step\".\\n\\nIn this way, the \"FUN-LOVING\" workers, who have now taken on the costume of \"FORCED FALSE FUN\" can be set against them.\\n\\nOf course this will compound their unhappiness and isolate them further until they are totally marginalised and can be tossed on the scrapheap or forced to resign.\\n\\nThis book is useful then, if you wish to convince idiots that their \"WORK IS FUN\".\\n\\nJust don\\'t try it on a group of people with a brain between them who might take their work seriously.\\n\\nThey might tell you to stick your \"FISH\" where the sun doesn\\'t shine\\n',\n",
       " \"If you've read anything already about these techniques - writing it down, visualizing it, tithing - this book offers no additional insights. And despite his &quot;Official Religious Disclaimer&quot; at the beginning of the book, it is packed to the rafters with the author's own religious dogma. If you share the author's religious outlook you may like this book, but otherwise it makes for very tedious reading\\n\"]"
      ]
     },
     "execution_count": 7,
     "metadata": {},
     "output_type": "execute_result"
    }
   ],
   "source": [
    "top_10_reviews = list(df['Review'].value_counts().head(10).index)\n",
    "top_10_reviews"
   ]
  },
  {
   "cell_type": "code",
   "execution_count": 8,
   "metadata": {},
   "outputs": [
    {
     "name": "stdout",
     "output_type": "stream",
     "text": [
      "0    This was perhaps the best of Johannes Steinhof...\n",
      "1    This very fascinating book is a story written ...\n",
      "2    The four tales in this collection are beautifu...\n",
      "3    The book contained more profanity than I expec...\n",
      "4    We have now entered a second time of deep conc...\n",
      "5    I don't know why it won the National Book Awar...\n",
      "6    The daughter of a prominent Boston doctor is d...\n",
      "7    I was very disapointed in the book.Basicly the...\n",
      "8    I think in retrospect I wasted my time on this...\n",
      "9    I have a hard time understanding what it is th...\n",
      "Name: Review, dtype: object\n"
     ]
    }
   ],
   "source": [
    "first_10_reviews = df['Review'].head(10)\n",
    "print(first_10_reviews)"
   ]
  },
  {
   "cell_type": "markdown",
   "metadata": {},
   "source": [
    "## Part 3: Implement Your Project Plan\n",
    "\n",
    "<b>Task:</b> Use the rest of this notebook to carry out your project plan. You will:\n",
    "\n",
    "1. Prepare your data for your model and create features and a label.\n",
    "2. Fit your model to the training data and evaluate your model.\n",
    "3. Improve your model by performing model selection and/or feature selection techniques to find best model for your problem.\n",
    "\n",
    "\n",
    "Add code cells below and populate the notebook with commentary, code, analyses, results, and figures as you see fit."
   ]
  },
  {
   "cell_type": "code",
   "execution_count": 9,
   "metadata": {},
   "outputs": [],
   "source": [
    "## STEP 1: Prepare data for  model and create features and a label"
   ]
  },
  {
   "cell_type": "code",
   "execution_count": 10,
   "metadata": {},
   "outputs": [
    {
     "name": "stdout",
     "output_type": "stream",
     "text": [
      "Begin\n",
      "End\n"
     ]
    }
   ],
   "source": [
    "# YOUR CODE HERE \n",
    "X = df['Review']    #feature\n",
    "y= df['Positive Review']  #label\n",
    "\n",
    "#converting the features in our training and test datasets into feature vectors using our word embeddings.\n",
    "X_train, X_test, y_train, y_test = train_test_split(X,y, test_size =.2, random_state = 1234)\n",
    "\n",
    "print(\"Begin\")\n",
    "word2vec_model = gensim.models.Word2Vec(X_train,\n",
    "                                   vector_size=100,\n",
    "                                   window=10,\n",
    "                                   min_count=2)\n",
    "\n",
    "print(\"End\")\n",
    "\n"
   ]
  },
  {
   "cell_type": "code",
   "execution_count": 11,
   "metadata": {},
   "outputs": [
    {
     "name": "stdout",
     "output_type": "stream",
     "text": [
      "1369    As my brother said when flipping through this ...\n",
      "1366    Cooper's book is yet another warm and fuzzy ma...\n",
      "385     I have many robot books and this is the best a...\n",
      "750     As China re-emerges as a dominant power in the...\n",
      "643     I have been a huge fan of Michael Crichton for...\n",
      "Name: Review, dtype: object\n",
      "1692    I bought this book this weekend as we're doing...\n",
      "1744    \"When I first came to Iran, black clad women a...\n",
      "1236      This book is packed full of incredible devic...\n",
      "21      While this book is a good attempt at placing s...\n",
      "894     If your looking to increase your personal leve...\n",
      "Name: Review, dtype: object\n",
      "Begin transforming X_train\n",
      "Finish transforming X_train\n",
      "Begin transforming X_test\n",
      "Finish transforming X_test\n"
     ]
    }
   ],
   "source": [
    "print(X_train.head())\n",
    "print(X_test.head())\n",
    "\n",
    "words = set(word2vec_model.wv.index_to_key)\n",
    "\n",
    "print('Begin transforming X_train')\n",
    "X_train_word_embeddings = np.array([np.array([word2vec_model.wv[word] for word in words if word in training_example])\n",
    "                        for training_example in X_train], dtype=object)\n",
    "print('Finish transforming X_train')\n",
    "\n",
    "print('Begin transforming X_test')\n",
    "X_test_word_embeddings = np.array([np.array([word2vec_model.wv[word] for word in words if word in training_example])\n",
    "                        for training_example in X_test], dtype=object)\n",
    "print('Finish transforming X_test')\n",
    "\n",
    "\n",
    "\n",
    "X_train_feature_vector = []\n",
    "for w in X_train_word_embeddings:\n",
    "    if w.size:\n",
    "        X_train_feature_vector.append(w.mean(axis=0))\n",
    "    else:\n",
    "        X_train_feature_vector.append(np.zeros(100, dtype=float))\n",
    "        \n",
    "X_test_feature_vector = []\n",
    "for w in X_test_word_embeddings:\n",
    "    if w.size:\n",
    "        X_test_feature_vector.append(w.mean(axis=0))\n",
    "    else:\n",
    "        X_test_feature_vector.append(np.zeros(100, dtype=float))"
   ]
  },
  {
   "cell_type": "code",
   "execution_count": 12,
   "metadata": {},
   "outputs": [],
   "source": [
    "## STEP 2: Fit model to training data and evaluate model."
   ]
  },
  {
   "cell_type": "code",
   "execution_count": 13,
   "metadata": {},
   "outputs": [
    {
     "name": "stdout",
     "output_type": "stream",
     "text": [
      "AUC on the test data: 0.6211\n",
      "19029\n"
     ]
    }
   ],
   "source": [
    "\n",
    "# 1. Create a LogisticRegression model object, and fit a Logistic Regression model to the transformed training data\n",
    "model = LogisticRegression(max_iter=200)\n",
    "model.fit(X_train_feature_vector, y_train)\n",
    "\n",
    "# 2. Make predictions on the transformed test data using the predict_proba() method and \n",
    "# save the values of the second column\n",
    "probability_predictions = model.predict_proba(X_test_feature_vector)[:,1]\n",
    "\n",
    "# 3. Make predictions on the transformed test data using the predict() method \n",
    "class_label_predictions = model.predict(X_test_feature_vector)\n",
    "\n",
    "# 4. Compute the Area Under the ROC curve (AUC) for the test data. Note that this time we are using one \n",
    "# function 'roc_auc_score()' to compute the auc rather than using both 'roc_curve()' and 'auc()' as we have \n",
    "# done in the past\n",
    "auc = roc_auc_score(y_test, probability_predictions)\n",
    "print('AUC on the test data: {:.4f}'.format(auc))\n",
    "\n",
    "\n",
    "# TF-IDF Vectorization\n",
    "\n",
    "\n",
    "# 1. Create a TfidfVectorizer object \n",
    "tfidf_vectorizer = TfidfVectorizer()\n",
    "\n",
    "# 2. Fit the vectorizer to X_train\n",
    "tfidf_vectorizer.fit(X_train)\n",
    "\n",
    "# 3. Using the fitted vectorizer, transform the training data \n",
    "X_train_tfidf = tfidf_vectorizer.transform(X_train)\n",
    "\n",
    "# 4. Using the fitted vectorizer, transform the test data \n",
    "X_test_tfidf = tfidf_vectorizer.transform(X_test)\n",
    "\n",
    "\n",
    "\n",
    "vocabulary_size = len(tfidf_vectorizer.vocabulary_)\n",
    "\n",
    "print(vocabulary_size)"
   ]
  },
  {
   "cell_type": "code",
   "execution_count": 14,
   "metadata": {},
   "outputs": [
    {
     "name": "stdout",
     "output_type": "stream",
     "text": [
      "Model: \"sequential\"\n",
      "_________________________________________________________________\n",
      "Layer (type)                 Output Shape              Param #   \n",
      "=================================================================\n",
      "dense (Dense)                (None, 64)                1217920   \n",
      "_________________________________________________________________\n",
      "dense_1 (Dense)              (None, 32)                2080      \n",
      "_________________________________________________________________\n",
      "dense_2 (Dense)              (None, 16)                528       \n",
      "_________________________________________________________________\n",
      "dropout (Dropout)            (None, 16)                0         \n",
      "_________________________________________________________________\n",
      "dense_3 (Dense)              (None, 1)                 17        \n",
      "=================================================================\n",
      "Total params: 1,220,545\n",
      "Trainable params: 1,220,545\n",
      "Non-trainable params: 0\n",
      "_________________________________________________________________\n"
     ]
    }
   ],
   "source": [
    "# constructing a neural network\n",
    "\n",
    "\n",
    "# 1. Create model object\n",
    "nn_model = keras.Sequential()\n",
    "\n",
    "# 2. Create the input layer and add it to the model object: \n",
    "# Create input layer:\n",
    "input_layer = keras.layers.InputLayer(input_shape=(vocabulary_size,))\n",
    "\n",
    "# Add input_layer to the model object:\n",
    "nn_model.add(input_layer)\n",
    "\n",
    "# 3. Create the first hidden layer and add it to the model object:\n",
    "# Create input layer:\n",
    "hidden_layer_1 = keras.layers.Dense(units =64, activation ='relu')\n",
    "\n",
    "# Add hidden_layer_1 to the model object:\n",
    "nn_model.add(hidden_layer_1)\n",
    "\n",
    "# 4. Create the second layer and add it to the model object: \n",
    "# Create input layer:\n",
    "hidden_layer_2 = keras.layers.Dense(units=32, activation = 'relu')\n",
    "\n",
    "# Add hidden_layer_2 to the model object:\n",
    "# YOUR CODE HERE\n",
    "nn_model.add(hidden_layer_2)\n",
    "\n",
    "# 5. Create the third layer and add it to the model object:\n",
    "# Create input layer:\n",
    "hidden_layer_3 = keras.layers.Dense(units = 16, activation = 'relu')\n",
    "\n",
    "# Add hidden_layer_3 to the model object:\n",
    "nn_model.add(hidden_layer_3)\n",
    "\n",
    "\n",
    "# DROPOUT LAYER\n",
    "nn_model.add(keras.layers.Dropout(.6))\n",
    "\n",
    "\n",
    "# 6. Create the output layer and add it to the model object:\n",
    "# Create input layer:\n",
    "output_layer = keras.layers.Dense(units =1, activation = 'sigmoid')\n",
    "\n",
    "# Add output_layer to the model object:\n",
    "# YOUR CODE HERE\n",
    "nn_model.add(output_layer)\n",
    "\n",
    "# Print summary of neural network model structure\n",
    "nn_model.summary()\n",
    "\n",
    "\n"
   ]
  },
  {
   "cell_type": "code",
   "execution_count": 15,
   "metadata": {},
   "outputs": [],
   "source": [
    "sgd_optimizer = keras.optimizers.SGD(learning_rate =0.1)\n",
    "\n",
    "\n",
    "loss_fn = keras.losses.BinaryCrossentropy(from_logits=False)\n",
    "\n",
    "\n",
    "nn_model.compile(optimizer= sgd_optimizer, loss= loss_fn, metrics= ['accuracy'])\n",
    "\n",
    "\n",
    "\n",
    "class ProgBarLoggerNEpochs(keras.callbacks.Callback):\n",
    "    \n",
    "    def __init__(self, num_epochs: int, every_n: int = 50):\n",
    "        self.num_epochs = num_epochs\n",
    "        self.every_n = every_n\n",
    "    \n",
    "    def on_epoch_end(self, epoch, logs=None):\n",
    "        if (epoch + 1) % self.every_n == 0:\n",
    "            s = 'Epoch [{}/ {}]'.format(epoch + 1, self.num_epochs)\n",
    "            logs_s = ['{}: {:.4f}'.format(k.capitalize(), v)\n",
    "                      for k, v in logs.items()]\n",
    "            s_list = [s] + logs_s\n",
    "            print(', '.join(s_list))\n"
   ]
  },
  {
   "cell_type": "code",
   "execution_count": 16,
   "metadata": {},
   "outputs": [
    {
     "name": "stdout",
     "output_type": "stream",
     "text": [
      "Epoch [50/ 85], Loss: 0.5026, Accuracy: 0.7758, Val_loss: 0.5199, Val_accuracy: 0.6930\n",
      "Elapsed time: 27.98s\n"
     ]
    }
   ],
   "source": [
    "t0 = time.time() # start time\n",
    "\n",
    "num_epochs = 85 #epochs\n",
    "\n",
    "\n",
    "history = nn_model.fit(X_train_tfidf.toarray(), y_train, epochs= num_epochs, verbose=0, callbacks=[ProgBarLoggerNEpochs(num_epochs, every_n=50)], validation_split =0.2)\n",
    "\n",
    "\n",
    "t1 = time.time() # stop time\n",
    "\n",
    "print('Elapsed time: %.2fs' % (t1-t0))\n",
    "\n"
   ]
  },
  {
   "cell_type": "code",
   "execution_count": 17,
   "metadata": {},
   "outputs": [
    {
     "data": {
      "image/png": "[encoded data removed]",
      "text/plain": [
       "<Figure size 432x288 with 1 Axes>"
      ]
     },
     "metadata": {
      "needs_background": "light"
     },
     "output_type": "display_data"
    },
    {
     "data": {
      "image/png": "[encoded data removed]",
      "text/plain": [
       "<Figure size 432x288 with 1 Axes>"
      ]
     },
     "metadata": {
      "needs_background": "light"
     },
     "output_type": "display_data"
    }
   ],
   "source": [
    "# Plot training and validation loss\n",
    "plt.plot(range(1, num_epochs + 1), history.history['loss'], label='Training Loss')\n",
    "plt.plot(range(1, num_epochs + 1), history.history['val_loss'], label='Validation Loss')\n",
    "\n",
    "plt.xlabel('Epoch')\n",
    "plt.ylabel('Loss')\n",
    "plt.legend()\n",
    "plt.show()\n",
    "\n",
    "\n",
    "# Plot training and validation accuracy\n",
    "plt.plot(range(1, num_epochs + 1), history.history['accuracy'], label='Training Accuracy')\n",
    "plt.plot(range(1, num_epochs + 1), history.history['val_accuracy'], label='Validation Accuracy')\n",
    "\n",
    "plt.xlabel('Epoch')\n",
    "plt.ylabel('Accuracy')\n",
    "plt.legend()\n",
    "plt.show()"
   ]
  },
  {
   "cell_type": "code",
   "execution_count": 18,
   "metadata": {},
   "outputs": [],
   "source": [
    "## STEP 3: Improve model by performing model selection and/or feature selection techniques to find best model"
   ]
  },
  {
   "cell_type": "code",
   "execution_count": 19,
   "metadata": {},
   "outputs": [
    {
     "name": "stdout",
     "output_type": "stream",
     "text": [
      "13/13 [==============================] - 0s 4ms/step - loss: 0.4778 - accuracy: 0.8203\n",
      "Loss:  0.4778241515159607 Accuracy:  0.8202531933784485\n"
     ]
    }
   ],
   "source": [
    "loss, accuracy = nn_model.evaluate(X_test_tfidf.toarray(), y_test)\n",
    "\n",
    "\n",
    "print('Loss: ', str(loss) , 'Accuracy: ', str(accuracy))"
   ]
  },
  {
   "cell_type": "code",
   "execution_count": 20,
   "metadata": {},
   "outputs": [
    {
     "name": "stdout",
     "output_type": "stream",
     "text": [
      "Predictions for the first 10 examples:\n",
      "Probability\t\t\tClass\n",
      "[0.9913378]\t\t\tGood Review\n",
      "[0.8297224]\t\t\tGood Review\n",
      "[0.09249562]\t\t\tBad Review\n",
      "[0.07743073]\t\t\tBad Review\n",
      "[0.8738477]\t\t\tGood Review\n",
      "[0.5825838]\t\t\tGood Review\n",
      "[0.02885935]\t\t\tBad Review\n",
      "[0.00572163]\t\t\tBad Review\n",
      "[0.99412334]\t\t\tGood Review\n",
      "[0.9908434]\t\t\tGood Review\n"
     ]
    }
   ],
   "source": [
    "probability_predictions = nn_model.predict(X_test_tfidf.toarray())\n",
    "\n",
    "print(\"Predictions for the first 10 examples:\")\n",
    "print(\"Probability\\t\\t\\tClass\")\n",
    "for i in range(0,10):\n",
    "    if probability_predictions[i] >= .5:\n",
    "        class_pred = \"Good Review\"\n",
    "    else:\n",
    "        class_pred = \"Bad Review\"\n",
    "    print(str(probability_predictions[i]) + \"\\t\\t\\t\" + str(class_pred))"
   ]
  },
  {
   "cell_type": "code",
   "execution_count": 21,
   "metadata": {},
   "outputs": [
    {
     "name": "stdout",
     "output_type": "stream",
     "text": [
      "Review #1:\n",
      "\n",
      "This commentary has many tremendous insights into the book of Romans.  Romans is one of the richest resources of truth within the Bible and John Stoot does a good job of unpacking it.  The book is written from a framework of the reader having a strong prior understanding of the Scriptures.  It is probably not considered a highly scholarly work, but it is not for the average reader to pick up for light reading either\n",
      "\n",
      "\n",
      "Prediction: Is this a good review? True\n",
      "\n",
      "Actual: Is this a good review? True\n",
      "\n"
     ]
    }
   ],
   "source": [
    "print('Review #1:\\n')\n",
    "print(X_test.to_numpy()[56])\n",
    "\n",
    "goodReview = True if probability_predictions[56] >= .5 else False\n",
    "    \n",
    "print('\\nPrediction: Is this a good review? {}\\n'.format(goodReview))\n",
    "\n",
    "print('Actual: Is this a good review? {}\\n'.format(y_test.to_numpy()[56]))"
   ]
  },
  {
   "cell_type": "code",
   "execution_count": 22,
   "metadata": {},
   "outputs": [
    {
     "name": "stdout",
     "output_type": "stream",
     "text": [
      "Review #2:\n",
      "\n",
      "I have read Baldacci's first four novels and have immensely enjoyed all of them.  This one, however, is just awful.  Not only the character's dialogue but even the story itself is written like a really bad detective movie.  The only thing I can think of to compare it to is this :  There was a series of Calvin and Hobbes cartoons where Calvin imagines himself as a private detective and they are written like the old detective shows, with lame lines like \"The gun was loaded, and so was I\".  That is exactly what this book is like, except it goes on for 400 pages.  There isn't a single interesting character in this book, in my opinion.  You just have to slog your way through the book to get to the end.  It's the Bataan Death March of novels.  I hope this is an aberration - I'll certainly give him another try since the first four novels that I read were so good.  But one more stinker like this one and I'll drop his name from my reading list\n",
      "\n",
      "\n",
      "Prediction: Is this a good review? False\n",
      "\n",
      "Actual: Is this a good review? False\n",
      "\n"
     ]
    }
   ],
   "source": [
    "print('Review #2:\\n')\n",
    "print(X_test.to_numpy()[24])\n",
    "\n",
    "goodReview = True if probability_predictions[24] >= .5 else False\n",
    "\n",
    "print('\\nPrediction: Is this a good review? {}\\n'.format(goodReview)) \n",
    "\n",
    "print('Actual: Is this a good review? {}\\n'.format(y_test.to_numpy()[24]))"
   ]
  },
  {
   "cell_type": "code",
   "execution_count": null,
   "metadata": {},
   "outputs": [],
   "source": []
  },
  {
   "cell_type": "code",
   "execution_count": null,
   "metadata": {},
   "outputs": [],
   "source": []
  }
 ],
 "metadata": {
  "kernelspec": {
   "display_name": "Python 3",
   "language": "python",
   "name": "python3"
  },
  "language_info": {
   "codemirror_mode": {
    "name": "ipython",
    "version": 3
   },
   "file_extension": ".py",
   "mimetype": "text/x-python",
   "name": "python",
   "nbconvert_exporter": "python",
   "pygments_lexer": "ipython3",
   "version": "3.6.9"
  },
  "toc": {
   "base_numbering": 1,
   "nav_menu": {},
   "number_sections": false,
   "sideBar": true,
   "skip_h1_title": false,
   "title_cell": "Table of Contents",
   "title_sidebar": "Contents",
   "toc_cell": false,
   "toc_position": {},
   "toc_section_display": true,
   "toc_window_display": false
  },
  "varInspector": {
   "cols": {
    "lenName": 16,
    "lenType": 16,
    "lenVar": 40
   },
   "kernels_config": {
    "python": {
     "delete_cmd_postfix": "",
     "delete_cmd_prefix": "del ",
     "library": "var_list.py",
     "varRefreshCmd": "print(var_dic_list())"
    },
    "r": {
     "delete_cmd_postfix": ") ",
     "delete_cmd_prefix": "rm(",
     "library": "var_list.r",
     "varRefreshCmd": "cat(var_dic_list()) "
    }
   },
   "types_to_exclude": [
    "module",
    "function",
    "builtin_function_or_method",
    "instance",
    "_Feature"
   ],
   "window_display": false
  }
 },
 "nbformat": 4,
 "nbformat_minor": 2
}
